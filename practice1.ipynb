{
 "cells": [
  {
   "cell_type": "code",
   "execution_count": 2,
   "id": "09a00380",
   "metadata": {},
   "outputs": [],
   "source": [
    "import numpy as np"
   ]
  },
  {
   "cell_type": "code",
   "execution_count": 38,
   "id": "8822b4ef",
   "metadata": {},
   "outputs": [],
   "source": [
    "def dec2bin(arg, bits):\n",
    "    func = lambda x: np.array(list(f'{bin(x)[2:]:0>{bits}s}'), 'int32')\n",
    "    if isinstance(arg, np.ndarray):\n",
    "        return np.array([func(x) for x in arg])\n",
    "    elif isinstance(arg, list):\n",
    "        return np.array([func(x) for x in arg])\n",
    "    else:\n",
    "        return func(arg)"
   ]
  },
  {
   "cell_type": "code",
   "execution_count": 58,
   "id": "814ebb18",
   "metadata": {},
   "outputs": [
    {
     "data": {
      "text/plain": [
       "array([1, 0, 0, 0, 1, 1], dtype=int32)"
      ]
     },
     "execution_count": 58,
     "metadata": {},
     "output_type": "execute_result"
    }
   ],
   "source": [
    "dec2bin(35, 6)"
   ]
  },
  {
   "cell_type": "code",
   "execution_count": 59,
   "id": "89c04a7f",
   "metadata": {},
   "outputs": [
    {
     "data": {
      "text/plain": [
       "array([[1, 0, 0, 1, 1, 0, 1, 1],\n",
       "       [0, 1, 0, 0, 0, 0, 0, 1]], dtype=int32)"
      ]
     },
     "execution_count": 59,
     "metadata": {},
     "output_type": "execute_result"
    }
   ],
   "source": [
    "dec2bin([155,65], 8)"
   ]
  },
  {
   "cell_type": "code",
   "execution_count": 60,
   "id": "0fc1e87f",
   "metadata": {},
   "outputs": [
    {
     "data": {
      "text/plain": [
       "array([[1, 0, 0, 0, 0, 0, 0, 0],\n",
       "       [1, 1, 0, 0, 1, 0, 0, 0],\n",
       "       [0, 0, 0, 0, 1, 1, 0, 0]], dtype=int32)"
      ]
     },
     "execution_count": 60,
     "metadata": {},
     "output_type": "execute_result"
    }
   ],
   "source": [
    "dec2bin(np.array([128,200,12]), 8)"
   ]
  },
  {
   "cell_type": "code",
   "execution_count": 21,
   "id": "1beffa62",
   "metadata": {},
   "outputs": [],
   "source": [
    "def bin2dec(arg):\n",
    "    func = lambda x: sum([bit*2**(len(x)-1-t) for t, bit in enumerate(x)])\n",
    "    if isinstance(arg, list):\n",
    "        return func(arg)\n",
    "    else:\n",
    "        if len(np.shape(arg))==1:\n",
    "            return int(func(arg))\n",
    "        else:\n",
    "            return np.array([func(x) for x in arg])"
   ]
  },
  {
   "cell_type": "code",
   "execution_count": 84,
   "id": "56ab2c6a",
   "metadata": {},
   "outputs": [
    {
     "data": {
      "text/plain": [
       "5"
      ]
     },
     "execution_count": 84,
     "metadata": {},
     "output_type": "execute_result"
    }
   ],
   "source": [
    "bin2dec([1, 0, 1])"
   ]
  },
  {
   "cell_type": "code",
   "execution_count": 88,
   "id": "316e500d",
   "metadata": {},
   "outputs": [
    {
     "data": {
      "text/plain": [
       "35"
      ]
     },
     "execution_count": 88,
     "metadata": {},
     "output_type": "execute_result"
    }
   ],
   "source": [
    "bin2dec(np.array([1,0,0,0,1,1]))"
   ]
  },
  {
   "cell_type": "code",
   "execution_count": 89,
   "id": "1467d514",
   "metadata": {},
   "outputs": [
    {
     "data": {
      "text/plain": [
       "array([155,  65])"
      ]
     },
     "execution_count": 89,
     "metadata": {},
     "output_type": "execute_result"
    }
   ],
   "source": [
    "bin2dec(np.array([[1,0,0,1,1,0,1,1],\n",
    "                  [0,1,0,0,0,0,0,1]]))"
   ]
  },
  {
   "cell_type": "code",
   "execution_count": 90,
   "id": "bb8281c3",
   "metadata": {},
   "outputs": [
    {
     "data": {
      "text/plain": [
       "array([128, 200,  12])"
      ]
     },
     "execution_count": 90,
     "metadata": {},
     "output_type": "execute_result"
    }
   ],
   "source": [
    "bin2dec(np.array([[1,0,0,0,0,0,0,0],\n",
    "                  [1,1,0,0,1,0,0,0],\n",
    "                  [0,0,0,0,1,1,0,0]]))"
   ]
  },
  {
   "cell_type": "code",
   "execution_count": 11,
   "id": "6b9be38e",
   "metadata": {},
   "outputs": [],
   "source": [
    "def lsbget(p, m):\n",
    "    if isinstance(p, int):\n",
    "        return dec2bin(p, 8)[-m:]\n",
    "    else:\n",
    "        return np.array([x[-m:] for x in dec2bin(p, 8)])"
   ]
  },
  {
   "cell_type": "code",
   "execution_count": 4,
   "id": "6a3fde55",
   "metadata": {},
   "outputs": [
    {
     "data": {
      "text/plain": [
       "array([1, 0, 1], dtype=int32)"
      ]
     },
     "execution_count": 4,
     "metadata": {},
     "output_type": "execute_result"
    }
   ],
   "source": [
    "lsbget(157, 3)"
   ]
  },
  {
   "cell_type": "code",
   "execution_count": 12,
   "id": "d3c6bd64",
   "metadata": {},
   "outputs": [
    {
     "data": {
      "text/plain": [
       "array([[1, 1, 0, 0],\n",
       "       [0, 0, 0, 1]], dtype=int32)"
      ]
     },
     "execution_count": 12,
     "metadata": {},
     "output_type": "execute_result"
    }
   ],
   "source": [
    "lsbget([92, 129], 4)"
   ]
  },
  {
   "cell_type": "code",
   "execution_count": 13,
   "id": "bf60a029",
   "metadata": {},
   "outputs": [
    {
     "data": {
      "text/plain": [
       "array([[0, 0],\n",
       "       [0, 1],\n",
       "       [1, 1]], dtype=int32)"
      ]
     },
     "execution_count": 13,
     "metadata": {},
     "output_type": "execute_result"
    }
   ],
   "source": [
    "lsbget(np.array([92, 129, 83]), 2)"
   ]
  },
  {
   "cell_type": "code",
   "execution_count": null,
   "id": "2b4e1a5d",
   "metadata": {},
   "outputs": [],
   "source": [
    "def lsbset(p, bits):\n",
    "    if isinstance(p, int):\n",
    "        tmp = dec2bin(p, 8)\n",
    "        for idx, bit in enumerate(bits):\n",
    "            tmp[-len(bits)+idx] = bit\n",
    "        return bin2dec(tmp)\n",
    "    else:\n",
    "        arr = np.array([None]*len(p))\n",
    "        for i, m in enumerate(bits):\n",
    "            tmp = dec2bin(p[i], 8)\n",
    "            for idx, bit in enumerate(m):\n",
    "                tmp[-len(m)+idx] = bit\n",
    "            arr[i] = bin2dec(tmp)\n",
    "        return arr"
   ]
  },
  {
   "cell_type": "code",
   "execution_count": 31,
   "id": "acb2b414",
   "metadata": {},
   "outputs": [
    {
     "data": {
      "text/plain": [
       "157"
      ]
     },
     "execution_count": 31,
     "metadata": {},
     "output_type": "execute_result"
    }
   ],
   "source": [
    "lsbset(155, [1,0,1])"
   ]
  },
  {
   "cell_type": "code",
   "execution_count": 32,
   "id": "97179d7b",
   "metadata": {},
   "outputs": [
    {
     "data": {
      "text/plain": [
       "array([157, 42], dtype=object)"
      ]
     },
     "execution_count": 32,
     "metadata": {},
     "output_type": "execute_result"
    }
   ],
   "source": [
    "lsbset([155,41],[[1,0,1],[0,1,0]])"
   ]
  },
  {
   "cell_type": "code",
   "execution_count": 39,
   "id": "179660be",
   "metadata": {},
   "outputs": [
    {
     "data": {
      "text/plain": [
       "array([141, 32, 159], dtype=object)"
      ]
     },
     "execution_count": 39,
     "metadata": {},
     "output_type": "execute_result"
    }
   ],
   "source": [
    "lsbset(np.array([140,33,158]), np.array([[0,1],[0,0],[1,1]]))"
   ]
  }
 ],
 "metadata": {
  "kernelspec": {
   "display_name": "test",
   "language": "python",
   "name": "python3"
  },
  "language_info": {
   "codemirror_mode": {
    "name": "ipython",
    "version": 3
   },
   "file_extension": ".py",
   "mimetype": "text/x-python",
   "name": "python",
   "nbconvert_exporter": "python",
   "pygments_lexer": "ipython3",
   "version": "3.13.5"
  }
 },
 "nbformat": 4,
 "nbformat_minor": 5
}
