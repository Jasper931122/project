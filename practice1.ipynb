{
 "cells": [
  {
   "cell_type": "code",
   "execution_count": 10,
   "id": "09a00380",
   "metadata": {},
   "outputs": [],
   "source": [
    "import numpy as np"
   ]
  },
  {
   "cell_type": "markdown",
   "id": "1177ce66",
   "metadata": {},
   "source": [
    "### 1.1"
   ]
  },
  {
   "cell_type": "code",
   "execution_count": 50,
   "id": "8822b4ef",
   "metadata": {},
   "outputs": [],
   "source": [
    "def dec2bin(arg, bits):\n",
    "    func = lambda x: np.array(list(f'{bin(x)[2:]:0>{bits}s}'), 'int32')\n",
    "    if isinstance(arg, np.ndarray):\n",
    "        return np.array([func(x) for x in arg])\n",
    "    elif isinstance(arg, list):\n",
    "        return np.array([func(x) for x in arg])\n",
    "    else:\n",
    "        return func(arg)"
   ]
  },
  {
   "cell_type": "code",
   "execution_count": 51,
   "id": "814ebb18",
   "metadata": {},
   "outputs": [
    {
     "data": {
      "text/plain": [
       "array([1, 0, 0, 0, 1, 1], dtype=int32)"
      ]
     },
     "execution_count": 51,
     "metadata": {},
     "output_type": "execute_result"
    }
   ],
   "source": [
    "dec2bin(35, 6)"
   ]
  },
  {
   "cell_type": "code",
   "execution_count": 52,
   "id": "89c04a7f",
   "metadata": {},
   "outputs": [
    {
     "data": {
      "text/plain": [
       "array([[1, 0, 0, 1, 1, 0, 1, 1],\n",
       "       [0, 1, 0, 0, 0, 0, 0, 1]], dtype=int32)"
      ]
     },
     "execution_count": 52,
     "metadata": {},
     "output_type": "execute_result"
    }
   ],
   "source": [
    "dec2bin([155,65], 8)"
   ]
  },
  {
   "cell_type": "code",
   "execution_count": 53,
   "id": "0fc1e87f",
   "metadata": {},
   "outputs": [
    {
     "data": {
      "text/plain": [
       "array([[1, 0, 0, 0, 0, 0, 0, 0],\n",
       "       [1, 1, 0, 0, 1, 0, 0, 0],\n",
       "       [0, 0, 0, 0, 1, 1, 0, 0]], dtype=int32)"
      ]
     },
     "execution_count": 53,
     "metadata": {},
     "output_type": "execute_result"
    }
   ],
   "source": [
    "dec2bin(np.array([128,200,12]), 8)"
   ]
  },
  {
   "cell_type": "markdown",
   "id": "dc96252e",
   "metadata": {},
   "source": [
    "### 1.2"
   ]
  },
  {
   "cell_type": "code",
   "execution_count": 15,
   "id": "1beffa62",
   "metadata": {},
   "outputs": [],
   "source": [
    "def bin2dec(arg):\n",
    "    func = lambda x: sum([bit*2**(len(x)-1-t) for t, bit in enumerate(x)])\n",
    "    if isinstance(arg, list):\n",
    "        return func(arg)\n",
    "    else:\n",
    "        if len(np.shape(arg))==1:\n",
    "            return int(func(arg))\n",
    "        else:\n",
    "            return np.array([func(x) for x in arg])"
   ]
  },
  {
   "cell_type": "code",
   "execution_count": 16,
   "id": "56ab2c6a",
   "metadata": {},
   "outputs": [
    {
     "data": {
      "text/plain": [
       "5"
      ]
     },
     "execution_count": 16,
     "metadata": {},
     "output_type": "execute_result"
    }
   ],
   "source": [
    "bin2dec([1, 0, 1])"
   ]
  },
  {
   "cell_type": "code",
   "execution_count": 17,
   "id": "316e500d",
   "metadata": {},
   "outputs": [
    {
     "data": {
      "text/plain": [
       "35"
      ]
     },
     "execution_count": 17,
     "metadata": {},
     "output_type": "execute_result"
    }
   ],
   "source": [
    "bin2dec(np.array([1,0,0,0,1,1]))"
   ]
  },
  {
   "cell_type": "code",
   "execution_count": 18,
   "id": "1467d514",
   "metadata": {},
   "outputs": [
    {
     "data": {
      "text/plain": [
       "array([155,  65])"
      ]
     },
     "execution_count": 18,
     "metadata": {},
     "output_type": "execute_result"
    }
   ],
   "source": [
    "bin2dec(np.array([[1,0,0,1,1,0,1,1],\n",
    "                  [0,1,0,0,0,0,0,1]]))"
   ]
  },
  {
   "cell_type": "code",
   "execution_count": 19,
   "id": "bb8281c3",
   "metadata": {},
   "outputs": [
    {
     "data": {
      "text/plain": [
       "array([128, 200,  12])"
      ]
     },
     "execution_count": 19,
     "metadata": {},
     "output_type": "execute_result"
    }
   ],
   "source": [
    "bin2dec(np.array([[1,0,0,0,0,0,0,0],\n",
    "                  [1,1,0,0,1,0,0,0],\n",
    "                  [0,0,0,0,1,1,0,0]]))"
   ]
  },
  {
   "cell_type": "markdown",
   "id": "1fbb090d",
   "metadata": {},
   "source": [
    "### 1.3"
   ]
  },
  {
   "cell_type": "code",
   "execution_count": 20,
   "id": "6b9be38e",
   "metadata": {},
   "outputs": [],
   "source": [
    "def lsbget(p, m):\n",
    "    if isinstance(p, int):\n",
    "        return dec2bin(p, 8)[-m:]\n",
    "    else:\n",
    "        return np.array([x[-m:] for x in dec2bin(p, 8)])"
   ]
  },
  {
   "cell_type": "code",
   "execution_count": 21,
   "id": "6a3fde55",
   "metadata": {},
   "outputs": [
    {
     "data": {
      "text/plain": [
       "array([1, 0, 1], dtype=int32)"
      ]
     },
     "execution_count": 21,
     "metadata": {},
     "output_type": "execute_result"
    }
   ],
   "source": [
    "lsbget(157, 3)"
   ]
  },
  {
   "cell_type": "code",
   "execution_count": 22,
   "id": "d3c6bd64",
   "metadata": {},
   "outputs": [
    {
     "data": {
      "text/plain": [
       "array([[1, 1, 0, 0],\n",
       "       [0, 0, 0, 1]], dtype=int32)"
      ]
     },
     "execution_count": 22,
     "metadata": {},
     "output_type": "execute_result"
    }
   ],
   "source": [
    "lsbget([92, 129], 4)"
   ]
  },
  {
   "cell_type": "code",
   "execution_count": 23,
   "id": "bf60a029",
   "metadata": {},
   "outputs": [
    {
     "data": {
      "text/plain": [
       "array([[0, 0],\n",
       "       [0, 1],\n",
       "       [1, 1]], dtype=int32)"
      ]
     },
     "execution_count": 23,
     "metadata": {},
     "output_type": "execute_result"
    }
   ],
   "source": [
    "lsbget(np.array([92, 129, 83]), 2)"
   ]
  },
  {
   "cell_type": "markdown",
   "id": "cda4aa56",
   "metadata": {},
   "source": [
    "### 1.4"
   ]
  },
  {
   "cell_type": "code",
   "execution_count": 24,
   "id": "2b4e1a5d",
   "metadata": {},
   "outputs": [],
   "source": [
    "def lsbset(p, bits):\n",
    "    if isinstance(p, int):\n",
    "        tmp = dec2bin(p, 8)\n",
    "        for idx, bit in enumerate(bits):\n",
    "            tmp[-len(bits)+idx] = bit\n",
    "        return bin2dec(tmp)\n",
    "    else:\n",
    "        arr = np.array([None]*len(p))\n",
    "        for i, m in enumerate(bits):\n",
    "            tmp = dec2bin(p[i], 8)\n",
    "            for idx, bit in enumerate(m):\n",
    "                tmp[-len(m)+idx] = bit\n",
    "            arr[i] = bin2dec(tmp)\n",
    "        return arr"
   ]
  },
  {
   "cell_type": "code",
   "execution_count": 25,
   "id": "acb2b414",
   "metadata": {},
   "outputs": [
    {
     "data": {
      "text/plain": [
       "157"
      ]
     },
     "execution_count": 25,
     "metadata": {},
     "output_type": "execute_result"
    }
   ],
   "source": [
    "lsbset(155, [1,0,1])"
   ]
  },
  {
   "cell_type": "code",
   "execution_count": 26,
   "id": "97179d7b",
   "metadata": {},
   "outputs": [
    {
     "data": {
      "text/plain": [
       "array([157, 42], dtype=object)"
      ]
     },
     "execution_count": 26,
     "metadata": {},
     "output_type": "execute_result"
    }
   ],
   "source": [
    "lsbset([155,41],[[1,0,1],[0,1,0]])"
   ]
  },
  {
   "cell_type": "code",
   "execution_count": 27,
   "id": "179660be",
   "metadata": {},
   "outputs": [
    {
     "data": {
      "text/plain": [
       "array([141, 32, 159], dtype=object)"
      ]
     },
     "execution_count": 27,
     "metadata": {},
     "output_type": "execute_result"
    }
   ],
   "source": [
    "lsbset(np.array([140,33,158]), np.array([[0,1],[0,0],[1,1]]))"
   ]
  },
  {
   "cell_type": "markdown",
   "id": "1bf6f39d",
   "metadata": {},
   "source": [
    "### 1.5"
   ]
  },
  {
   "cell_type": "code",
   "execution_count": null,
   "id": "57167055",
   "metadata": {},
   "outputs": [],
   "source": [
    "def bitget(p, k):\n",
    "    func = lambda: (p>>k)%2\n",
    "    if isinstance(p, int):\n",
    "        return func()\n",
    "    else:\n",
    "        if isinstance(p, list):\n",
    "            p = np.array(p)\n",
    "        return func()"
   ]
  },
  {
   "cell_type": "code",
   "execution_count": 57,
   "id": "2e51d5a2",
   "metadata": {},
   "outputs": [
    {
     "data": {
      "text/plain": [
       "0"
      ]
     },
     "execution_count": 57,
     "metadata": {},
     "output_type": "execute_result"
    }
   ],
   "source": [
    "bitget(155, 5)"
   ]
  },
  {
   "cell_type": "code",
   "execution_count": 58,
   "id": "5f0901da",
   "metadata": {},
   "outputs": [
    {
     "data": {
      "text/plain": [
       "array([1, 1])"
      ]
     },
     "execution_count": 58,
     "metadata": {},
     "output_type": "execute_result"
    }
   ],
   "source": [
    "bitget([155,74], 1)"
   ]
  },
  {
   "cell_type": "code",
   "execution_count": 59,
   "id": "2221b23d",
   "metadata": {},
   "outputs": [
    {
     "data": {
      "text/plain": [
       "array([0, 0, 0])"
      ]
     },
     "execution_count": 59,
     "metadata": {},
     "output_type": "execute_result"
    }
   ],
   "source": [
    "bitget(np.array([69,82,90]), 7)"
   ]
  },
  {
   "cell_type": "code",
   "execution_count": 60,
   "id": "03b8477e",
   "metadata": {},
   "outputs": [
    {
     "data": {
      "text/plain": [
       "array([[1, 0],\n",
       "       [0, 0]])"
      ]
     },
     "execution_count": 60,
     "metadata": {},
     "output_type": "execute_result"
    }
   ],
   "source": [
    "bitget(np.array([[69, 82],\n",
    "                [90,128]]), 0)"
   ]
  },
  {
   "cell_type": "markdown",
   "id": "3086f6b6",
   "metadata": {},
   "source": [
    "### 1.6"
   ]
  },
  {
   "cell_type": "code",
   "execution_count": 81,
   "id": "6bb48404",
   "metadata": {},
   "outputs": [],
   "source": [
    "def bitset(p, k, v):\n",
    "    check = lambda: (p>>k)%2\n",
    "    func1 = lambda:p + (-2**k if check() and (check() ^ v) else 2**k if check() ^ v else 0)\n",
    "    func2 = lambda:p + np.where(check() & (check() ^ v), -2**k, 0) + np.where(~check() & (check() ^ v), 2**k, 0)\n",
    "    if isinstance(p, int):\n",
    "        return func1()\n",
    "    else:\n",
    "        if isinstance(p, list):\n",
    "            p = np.array(p)\n",
    "            v = np.array(v)\n",
    "        return func2()"
   ]
  },
  {
   "cell_type": "code",
   "execution_count": 69,
   "id": "4dd869b0",
   "metadata": {},
   "outputs": [
    {
     "data": {
      "text/plain": [
       "13"
      ]
     },
     "execution_count": 69,
     "metadata": {},
     "output_type": "execute_result"
    }
   ],
   "source": [
    "bitset(12,0,1)"
   ]
  },
  {
   "cell_type": "code",
   "execution_count": 82,
   "id": "e72880fb",
   "metadata": {},
   "outputs": [
    {
     "data": {
      "text/plain": [
       "array([140,  13])"
      ]
     },
     "execution_count": 82,
     "metadata": {},
     "output_type": "execute_result"
    }
   ],
   "source": [
    "bitset([12,13],7,[1,0])"
   ]
  },
  {
   "cell_type": "code",
   "execution_count": 85,
   "id": "5703de6e",
   "metadata": {},
   "outputs": [
    {
     "data": {
      "text/plain": [
       "array([[ 68,  83],\n",
       "       [ 91, 128]])"
      ]
     },
     "execution_count": 85,
     "metadata": {},
     "output_type": "execute_result"
    }
   ],
   "source": [
    "bitset(np.array([[69,82],[90,128]]), 0, np.array([[0,1],[1,0]]))"
   ]
  }
 ],
 "metadata": {
  "kernelspec": {
   "display_name": "test",
   "language": "python",
   "name": "python3"
  },
  "language_info": {
   "codemirror_mode": {
    "name": "ipython",
    "version": 3
   },
   "file_extension": ".py",
   "mimetype": "text/x-python",
   "name": "python",
   "nbconvert_exporter": "python",
   "pygments_lexer": "ipython3",
   "version": "3.13.5"
  }
 },
 "nbformat": 4,
 "nbformat_minor": 5
}
